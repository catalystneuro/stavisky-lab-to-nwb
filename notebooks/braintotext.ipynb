{
 "cells": [
  {
   "cell_type": "code",
   "execution_count": 1,
   "id": "81709fb5-55aa-4ff9-9b96-cc927bc65b25",
   "metadata": {
    "tags": []
   },
   "outputs": [],
   "source": [
    "import sys\n",
    "!$sys.executable -m pip install -r ../src/stavisky_lab_to_nwb/widgets/widgets_requirements.txt > /dev/null\n",
    "!$sys.executable -m pip install -e ../ > /dev/null"
   ]
  },
  {
   "cell_type": "code",
   "execution_count": 2,
   "id": "4223a7a5-8db0-488c-a896-202f5814b98a",
   "metadata": {},
   "outputs": [],
   "source": [
    "from pynwb import NWBHDF5IO\n",
    "\n",
    "from stavisky_lab_to_nwb.widgets.widgets import (\n",
    "    DecodingErrorWidget,\n",
    "    AlignedAveragedTimeSeriesWidget,\n",
    "    DecodingOutputWidget,\n",
    ")"
   ]
  },
  {
   "cell_type": "code",
   "execution_count": 3,
   "id": "28e19be5-db8e-4127-9e25-f8735193b0a5",
   "metadata": {
    "tags": []
   },
   "outputs": [],
   "source": [
    "io = NWBHDF5IO('/home/jovyan/conversion_nwb/stavisky-lab-to-nwb/braintotext/t15_sim.2023.09.04.nwb', 'r', load_namespaces=True)\n",
    "nwbfile = io.read()\n",
    "\n",
    "io2 = NWBHDF5IO('/home/jovyan/conversion_nwb/stavisky-lab-to-nwb/braintotext2/t15_sim.2023.10.24.nwb', 'r', load_namespaces=True)\n",
    "nwbfile2 = io2.read()"
   ]
  },
  {
   "cell_type": "code",
   "execution_count": 4,
   "id": "df6782e7-3504-41a9-a04f-829c4b5d127d",
   "metadata": {
    "tags": []
   },
   "outputs": [
    {
     "data": {
      "application/vnd.jupyter.widget-view+json": {
       "model_id": "30cf79dbe15040eaa12980490ee25acf",
       "version_major": 2,
       "version_minor": 0
      },
      "text/plain": [
       "DecodingErrorWidget(children=(Output(), MultiTableWidget(children=(Dropdown(description='Session:', options=((…"
      ]
     },
     "execution_count": 4,
     "metadata": {},
     "output_type": "execute_result"
    }
   ],
   "source": [
    "DecodingErrorWidget([nwbfile.trials, nwbfile2.trials])"
   ]
  },
  {
   "cell_type": "code",
   "execution_count": 5,
   "id": "dd538053-4206-4437-be53-559fba6be7b8",
   "metadata": {
    "tags": []
   },
   "outputs": [
    {
     "data": {
      "application/vnd.jupyter.widget-view+json": {
       "model_id": "c15e59f909db411fa2c8911d1d4b4bb5",
       "version_major": 2,
       "version_minor": 0
      },
      "text/plain": [
       "AlignedAveragedTimeSeriesWidget(children=(HBox(children=(VBox(children=(GroupAndSortController(value={'order':…"
      ]
     },
     "execution_count": 5,
     "metadata": {},
     "output_type": "execute_result"
    }
   ],
   "source": [
    "AlignedAveragedTimeSeriesWidget(\n",
    "    trials=nwbfile.trials,\n",
    "    processing_module=nwbfile.processing['ecephys']\n",
    ")"
   ]
  },
  {
   "cell_type": "code",
   "execution_count": 6,
   "id": "a9c7da0e-70a0-4696-9928-23eae554a87d",
   "metadata": {
    "tags": []
   },
   "outputs": [
    {
     "data": {
      "application/vnd.jupyter.widget-view+json": {
       "model_id": "c55a259396b747ddb2d67c8b1c046ae2",
       "version_major": 2,
       "version_minor": 0
      },
      "text/plain": [
       "DecodingOutputWidget(children=(VBox(children=(HBox(children=(Checkbox(value=False, description='Rotate text', …"
      ]
     },
     "execution_count": 6,
     "metadata": {},
     "output_type": "execute_result"
    }
   ],
   "source": [
    "DecodingOutputWidget(\n",
    "    time_series=nwbfile.processing['behavior'].data_interfaces['phoneme_logits'],\n",
    "    events=nwbfile.processing['behavior'].data_interfaces['decoded_text'],\n",
    ")"
   ]
  },
  {
   "cell_type": "code",
   "execution_count": 7,
   "id": "a75c5f07-fbb2-42c4-a3ad-0f9eec088cf4",
   "metadata": {
    "tags": []
   },
   "outputs": [],
   "source": [
    "io.close()\n",
    "io2.close()"
   ]
  },
  {
   "cell_type": "code",
   "execution_count": null,
   "id": "1553332c-da86-46f4-93d2-5f2d13623e36",
   "metadata": {},
   "outputs": [],
   "source": []
  }
 ],
 "metadata": {
  "kernelspec": {
   "display_name": "Python 3 (ipykernel)",
   "language": "python",
   "name": "python3"
  },
  "language_info": {
   "codemirror_mode": {
    "name": "ipython",
    "version": 3
   },
   "file_extension": ".py",
   "mimetype": "text/x-python",
   "name": "python",
   "nbconvert_exporter": "python",
   "pygments_lexer": "ipython3",
   "version": "3.10.9"
  }
 },
 "nbformat": 4,
 "nbformat_minor": 5
}
