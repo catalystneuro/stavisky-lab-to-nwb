{
 "cells": [
  {
   "cell_type": "code",
   "execution_count": 1,
   "id": "28fe8d19-3e35-4db4-aa63-f06f3e18ea8d",
   "metadata": {
    "tags": []
   },
   "outputs": [
    {
     "name": "stdout",
     "output_type": "stream",
     "text": [
      "Obtaining file:///home/jovyan/packages/nwbwidgets\n",
      "  Installing build dependencies ... \u001b[?25ldone\n",
      "\u001b[?25h  Checking if build backend supports build_editable ... \u001b[?25ldone\n",
      "\u001b[?25h  Getting requirements to build editable ... \u001b[?25ldone\n",
      "\u001b[?25h  Installing backend dependencies ... \u001b[?25ldone\n",
      "\u001b[?25h  Preparing editable metadata (pyproject.toml) ... \u001b[?25ldone\n",
      "\u001b[?25hRequirement already satisfied: ipyvolume>=0.6.0a10 in /opt/conda/lib/python3.10/site-packages (from nwbwidgets==0.11.3) (0.6.1)\n",
      "Requirement already satisfied: scikit-image in /opt/conda/lib/python3.10/site-packages (from nwbwidgets==0.11.3) (0.19.3)\n",
      "Requirement already satisfied: ipympl in /opt/conda/lib/python3.10/site-packages (from nwbwidgets==0.11.3) (0.9.3)\n",
      "Requirement already satisfied: ipywidgets>=8.0.0 in /opt/conda/lib/python3.10/site-packages (from nwbwidgets==0.11.3) (8.0.4)\n",
      "Requirement already satisfied: tifffile in /opt/conda/lib/python3.10/site-packages (from nwbwidgets==0.11.3) (2023.2.28)\n",
      "Requirement already satisfied: fsspec in /opt/conda/lib/python3.10/site-packages (from nwbwidgets==0.11.3) (2023.3.0)\n",
      "Requirement already satisfied: ndx-grayscalevolume in /opt/conda/lib/python3.10/site-packages (from nwbwidgets==0.11.3) (0.0.2)\n",
      "Requirement already satisfied: numpy in /opt/conda/lib/python3.10/site-packages (from nwbwidgets==0.11.3) (1.23.5)\n",
      "Requirement already satisfied: trimesh in /opt/conda/lib/python3.10/site-packages (from nwbwidgets==0.11.3) (3.20.2)\n",
      "Requirement already satisfied: ndx-icephys-meta in /opt/conda/lib/python3.10/site-packages (from nwbwidgets==0.11.3) (0.1.0)\n",
      "Requirement already satisfied: plotly==5.13.1 in /opt/conda/lib/python3.10/site-packages (from nwbwidgets==0.11.3) (5.13.1)\n",
      "Requirement already satisfied: requests in /opt/conda/lib/python3.10/site-packages (from nwbwidgets==0.11.3) (2.28.2)\n",
      "Requirement already satisfied: zarr in /opt/conda/lib/python3.10/site-packages (from nwbwidgets==0.11.3) (2.14.2)\n",
      "Requirement already satisfied: pynwb in /opt/conda/lib/python3.10/site-packages (from nwbwidgets==0.11.3) (2.3.1)\n",
      "Requirement already satisfied: tqdm>=4.36.0 in /opt/conda/lib/python3.10/site-packages (from nwbwidgets==0.11.3) (4.65.0)\n",
      "Requirement already satisfied: matplotlib in /opt/conda/lib/python3.10/site-packages (from nwbwidgets==0.11.3) (3.7.1)\n",
      "Requirement already satisfied: importlib-metadata<5.0 in /opt/conda/lib/python3.10/site-packages (from nwbwidgets==0.11.3) (4.13.0)\n",
      "Requirement already satisfied: dandi>=0.55.0 in /opt/conda/lib/python3.10/site-packages (from nwbwidgets==0.11.3) (0.56.2)\n",
      "Requirement already satisfied: ndx-spectrum in /opt/conda/lib/python3.10/site-packages (from nwbwidgets==0.11.3) (0.2.2)\n",
      "Collecting ipyfilechooser==0.6.0\n",
      "  Using cached ipyfilechooser-0.6.0-py3-none-any.whl (11 kB)\n",
      "Requirement already satisfied: ipydatagrid in /opt/conda/lib/python3.10/site-packages (from nwbwidgets==0.11.3) (1.1.15)\n",
      "Requirement already satisfied: aiohttp in /opt/conda/lib/python3.10/site-packages (from nwbwidgets==0.11.3) (3.8.4)\n",
      "Requirement already satisfied: ipydatawidgets==4.3.2 in /opt/conda/lib/python3.10/site-packages (from nwbwidgets==0.11.3) (4.3.2)\n",
      "Requirement already satisfied: traittypes>=0.2.0 in /opt/conda/lib/python3.10/site-packages (from ipydatawidgets==4.3.2->nwbwidgets==0.11.3) (0.2.1)\n",
      "Requirement already satisfied: tenacity>=6.2.0 in /opt/conda/lib/python3.10/site-packages (from plotly==5.13.1->nwbwidgets==0.11.3) (8.2.2)\n",
      "Requirement already satisfied: click in /opt/conda/lib/python3.10/site-packages (from dandi>=0.55.0->nwbwidgets==0.11.3) (8.1.3)\n",
      "Requirement already satisfied: joblib in /opt/conda/lib/python3.10/site-packages (from dandi>=0.55.0->nwbwidgets==0.11.3) (1.2.0)\n",
      "Requirement already satisfied: nwbinspector>=0.4.28 in /opt/conda/lib/python3.10/site-packages (from dandi>=0.55.0->nwbwidgets==0.11.3) (0.4.30)\n",
      "Requirement already satisfied: etelemetry>=0.2.2 in /opt/conda/lib/python3.10/site-packages (from dandi>=0.55.0->nwbwidgets==0.11.3) (0.3.0)\n",
      "Requirement already satisfied: humanize in /opt/conda/lib/python3.10/site-packages (from dandi>=0.55.0->nwbwidgets==0.11.3) (4.6.0)\n",
      "Requirement already satisfied: appdirs in /opt/conda/lib/python3.10/site-packages (from dandi>=0.55.0->nwbwidgets==0.11.3) (1.4.4)\n",
      "Requirement already satisfied: hdmf!=3.5.0 in /opt/conda/lib/python3.10/site-packages (from dandi>=0.55.0->nwbwidgets==0.11.3) (3.5.2)\n",
      "Requirement already satisfied: pycryptodomex in /opt/conda/lib/python3.10/site-packages (from dandi>=0.55.0->nwbwidgets==0.11.3) (3.17)\n",
      "Requirement already satisfied: pydantic>=1.9.0 in /opt/conda/lib/python3.10/site-packages (from dandi>=0.55.0->nwbwidgets==0.11.3) (1.10.6)\n",
      "Requirement already satisfied: interleave~=0.1 in /opt/conda/lib/python3.10/site-packages (from dandi>=0.55.0->nwbwidgets==0.11.3) (0.2.1)\n",
      "Requirement already satisfied: dandischema~=0.8.0 in /opt/conda/lib/python3.10/site-packages (from dandi>=0.55.0->nwbwidgets==0.11.3) (0.8.2)\n",
      "Requirement already satisfied: keyrings.alt in /opt/conda/lib/python3.10/site-packages (from dandi>=0.55.0->nwbwidgets==0.11.3) (4.2.0)\n",
      "Requirement already satisfied: semantic-version in /opt/conda/lib/python3.10/site-packages (from dandi>=0.55.0->nwbwidgets==0.11.3) (2.10.0)\n",
      "Requirement already satisfied: ruamel.yaml<1,>=0.15 in /opt/conda/lib/python3.10/site-packages (from dandi>=0.55.0->nwbwidgets==0.11.3) (0.17.21)\n",
      "Requirement already satisfied: packaging in /opt/conda/lib/python3.10/site-packages (from dandi>=0.55.0->nwbwidgets==0.11.3) (23.0)\n",
      "Requirement already satisfied: fasteners in /opt/conda/lib/python3.10/site-packages (from dandi>=0.55.0->nwbwidgets==0.11.3) (0.17.3)\n",
      "Requirement already satisfied: click-didyoumean in /opt/conda/lib/python3.10/site-packages (from dandi>=0.55.0->nwbwidgets==0.11.3) (0.3.0)\n",
      "Requirement already satisfied: bidsschematools~=0.7.0 in /opt/conda/lib/python3.10/site-packages (from dandi>=0.55.0->nwbwidgets==0.11.3) (0.7.2)\n",
      "Requirement already satisfied: fscacher>=0.3.0 in /opt/conda/lib/python3.10/site-packages (from dandi>=0.55.0->nwbwidgets==0.11.3) (0.3.0)\n",
      "Requirement already satisfied: python-dateutil in /opt/conda/lib/python3.10/site-packages (from dandi>=0.55.0->nwbwidgets==0.11.3) (2.8.2)\n",
      "Requirement already satisfied: zarr-checksum in /opt/conda/lib/python3.10/site-packages (from dandi>=0.55.0->nwbwidgets==0.11.3) (0.2.8)\n",
      "Requirement already satisfied: pyout!=0.6.0,>=0.5 in /opt/conda/lib/python3.10/site-packages (from dandi>=0.55.0->nwbwidgets==0.11.3) (0.7.2)\n",
      "Requirement already satisfied: keyring!=23.9.0 in /opt/conda/lib/python3.10/site-packages (from dandi>=0.55.0->nwbwidgets==0.11.3) (23.13.1)\n",
      "Requirement already satisfied: zipp>=0.5 in /opt/conda/lib/python3.10/site-packages (from importlib-metadata<5.0->nwbwidgets==0.11.3) (3.15.0)\n",
      "Requirement already satisfied: ipyvuetify in /opt/conda/lib/python3.10/site-packages (from ipyvolume>=0.6.0a10->nwbwidgets==0.11.3) (1.8.4)\n",
      "Requirement already satisfied: ipyvue>=1.7.0 in /opt/conda/lib/python3.10/site-packages (from ipyvolume>=0.6.0a10->nwbwidgets==0.11.3) (1.9.0)\n",
      "Requirement already satisfied: bqplot in /opt/conda/lib/python3.10/site-packages (from ipyvolume>=0.6.0a10->nwbwidgets==0.11.3) (0.12.36)\n",
      "Requirement already satisfied: ipywebrtc in /opt/conda/lib/python3.10/site-packages (from ipyvolume>=0.6.0a10->nwbwidgets==0.11.3) (0.6.0)\n",
      "Requirement already satisfied: Pillow in /opt/conda/lib/python3.10/site-packages (from ipyvolume>=0.6.0a10->nwbwidgets==0.11.3) (9.4.0)\n",
      "Requirement already satisfied: pythreejs>=2.4.0 in /opt/conda/lib/python3.10/site-packages (from ipyvolume>=0.6.0a10->nwbwidgets==0.11.3) (2.4.2)\n",
      "Requirement already satisfied: traitlets in /opt/conda/lib/python3.10/site-packages (from ipyvolume>=0.6.0a10->nwbwidgets==0.11.3) (5.9.0)\n",
      "Requirement already satisfied: ipython>=6.1.0 in /opt/conda/lib/python3.10/site-packages (from ipywidgets>=8.0.0->nwbwidgets==0.11.3) (8.11.0)\n",
      "Requirement already satisfied: jupyterlab-widgets~=3.0 in /opt/conda/lib/python3.10/site-packages (from ipywidgets>=8.0.0->nwbwidgets==0.11.3) (3.0.5)\n",
      "Requirement already satisfied: widgetsnbextension~=4.0 in /opt/conda/lib/python3.10/site-packages (from ipywidgets>=8.0.0->nwbwidgets==0.11.3) (4.0.5)\n",
      "Requirement already satisfied: ipykernel>=4.5.1 in /opt/conda/lib/python3.10/site-packages (from ipywidgets>=8.0.0->nwbwidgets==0.11.3) (6.21.3)\n",
      "Requirement already satisfied: setuptools in /opt/conda/lib/python3.10/site-packages (from pynwb->nwbwidgets==0.11.3) (67.6.0)\n",
      "Requirement already satisfied: h5py<4,>=2.10 in /opt/conda/lib/python3.10/site-packages (from pynwb->nwbwidgets==0.11.3) (3.8.0)\n",
      "Requirement already satisfied: pandas<2,>=1.1.5 in /opt/conda/lib/python3.10/site-packages (from pynwb->nwbwidgets==0.11.3) (1.5.3)\n",
      "Requirement already satisfied: charset-normalizer<4,>=2 in /opt/conda/lib/python3.10/site-packages (from requests->nwbwidgets==0.11.3) (2.1.1)\n",
      "Requirement already satisfied: certifi>=2017.4.17 in /opt/conda/lib/python3.10/site-packages (from requests->nwbwidgets==0.11.3) (2022.12.7)\n",
      "Requirement already satisfied: urllib3<1.27,>=1.21.1 in /opt/conda/lib/python3.10/site-packages (from requests->nwbwidgets==0.11.3) (1.26.15)\n",
      "Requirement already satisfied: idna<4,>=2.5 in /opt/conda/lib/python3.10/site-packages (from requests->nwbwidgets==0.11.3) (3.4)\n",
      "Requirement already satisfied: asciitree in /opt/conda/lib/python3.10/site-packages (from zarr->nwbwidgets==0.11.3) (0.3.3)\n",
      "Requirement already satisfied: numcodecs>=0.10.0 in /opt/conda/lib/python3.10/site-packages (from zarr->nwbwidgets==0.11.3) (0.11.0)\n",
      "Requirement already satisfied: async-timeout<5.0,>=4.0.0a3 in /opt/conda/lib/python3.10/site-packages (from aiohttp->nwbwidgets==0.11.3) (4.0.2)\n",
      "Requirement already satisfied: yarl<2.0,>=1.0 in /opt/conda/lib/python3.10/site-packages (from aiohttp->nwbwidgets==0.11.3) (1.8.2)\n",
      "Requirement already satisfied: multidict<7.0,>=4.5 in /opt/conda/lib/python3.10/site-packages (from aiohttp->nwbwidgets==0.11.3) (6.0.4)\n",
      "Requirement already satisfied: attrs>=17.3.0 in /opt/conda/lib/python3.10/site-packages (from aiohttp->nwbwidgets==0.11.3) (22.2.0)\n",
      "Requirement already satisfied: frozenlist>=1.1.1 in /opt/conda/lib/python3.10/site-packages (from aiohttp->nwbwidgets==0.11.3) (1.3.3)\n",
      "Requirement already satisfied: aiosignal>=1.1.2 in /opt/conda/lib/python3.10/site-packages (from aiohttp->nwbwidgets==0.11.3) (1.3.1)\n",
      "Requirement already satisfied: py2vega>=0.5.0 in /opt/conda/lib/python3.10/site-packages (from ipydatagrid->nwbwidgets==0.11.3) (0.6.1)\n",
      "Requirement already satisfied: ipython-genutils in /opt/conda/lib/python3.10/site-packages (from ipympl->nwbwidgets==0.11.3) (0.2.0)\n",
      "Requirement already satisfied: fonttools>=4.22.0 in /opt/conda/lib/python3.10/site-packages (from matplotlib->nwbwidgets==0.11.3) (4.39.0)\n",
      "Requirement already satisfied: pyparsing>=2.3.1 in /opt/conda/lib/python3.10/site-packages (from matplotlib->nwbwidgets==0.11.3) (3.0.9)\n",
      "Requirement already satisfied: cycler>=0.10 in /opt/conda/lib/python3.10/site-packages (from matplotlib->nwbwidgets==0.11.3) (0.11.0)\n",
      "Requirement already satisfied: kiwisolver>=1.0.1 in /opt/conda/lib/python3.10/site-packages (from matplotlib->nwbwidgets==0.11.3) (1.4.4)\n",
      "Requirement already satisfied: contourpy>=1.0.1 in /opt/conda/lib/python3.10/site-packages (from matplotlib->nwbwidgets==0.11.3) (1.0.7)\n",
      "Requirement already satisfied: scipy>=1.4.1 in /opt/conda/lib/python3.10/site-packages (from scikit-image->nwbwidgets==0.11.3) (1.10.1)\n",
      "Requirement already satisfied: imageio>=2.4.1 in /opt/conda/lib/python3.10/site-packages (from scikit-image->nwbwidgets==0.11.3) (2.26.0)\n",
      "Requirement already satisfied: networkx>=2.2 in /opt/conda/lib/python3.10/site-packages (from scikit-image->nwbwidgets==0.11.3) (3.0)\n",
      "Requirement already satisfied: PyWavelets>=1.1.1 in /opt/conda/lib/python3.10/site-packages (from scikit-image->nwbwidgets==0.11.3) (1.4.1)\n",
      "Requirement already satisfied: pyyaml in /opt/conda/lib/python3.10/site-packages (from bidsschematools~=0.7.0->dandi>=0.55.0->nwbwidgets==0.11.3) (6.0)\n",
      "Requirement already satisfied: jsonschema[format] in /opt/conda/lib/python3.10/site-packages (from dandischema~=0.8.0->dandi>=0.55.0->nwbwidgets==0.11.3) (4.17.3)\n",
      "Requirement already satisfied: ci-info>=0.2 in /opt/conda/lib/python3.10/site-packages (from etelemetry>=0.2.2->dandi>=0.55.0->nwbwidgets==0.11.3) (0.3.0)\n",
      "Requirement already satisfied: mpi4py>=3.0.2 in /opt/conda/lib/python3.10/site-packages (from h5py<4,>=2.10->pynwb->nwbwidgets==0.11.3) (3.1.4)\n",
      "Requirement already satisfied: matplotlib-inline>=0.1 in /opt/conda/lib/python3.10/site-packages (from ipykernel>=4.5.1->ipywidgets>=8.0.0->nwbwidgets==0.11.3) (0.1.6)\n",
      "Requirement already satisfied: tornado>=6.1 in /opt/conda/lib/python3.10/site-packages (from ipykernel>=4.5.1->ipywidgets>=8.0.0->nwbwidgets==0.11.3) (6.2)\n",
      "Requirement already satisfied: jupyter-client>=6.1.12 in /opt/conda/lib/python3.10/site-packages (from ipykernel>=4.5.1->ipywidgets>=8.0.0->nwbwidgets==0.11.3) (8.0.3)\n",
      "Requirement already satisfied: jupyter-core!=5.0.*,>=4.12 in /opt/conda/lib/python3.10/site-packages (from ipykernel>=4.5.1->ipywidgets>=8.0.0->nwbwidgets==0.11.3) (5.2.0)\n",
      "Requirement already satisfied: debugpy>=1.6.5 in /opt/conda/lib/python3.10/site-packages (from ipykernel>=4.5.1->ipywidgets>=8.0.0->nwbwidgets==0.11.3) (1.6.6)\n",
      "Requirement already satisfied: nest-asyncio in /opt/conda/lib/python3.10/site-packages (from ipykernel>=4.5.1->ipywidgets>=8.0.0->nwbwidgets==0.11.3) (1.5.6)\n",
      "Requirement already satisfied: comm>=0.1.1 in /opt/conda/lib/python3.10/site-packages (from ipykernel>=4.5.1->ipywidgets>=8.0.0->nwbwidgets==0.11.3) (0.1.2)\n",
      "Requirement already satisfied: pyzmq>=20 in /opt/conda/lib/python3.10/site-packages (from ipykernel>=4.5.1->ipywidgets>=8.0.0->nwbwidgets==0.11.3) (25.0.0)\n",
      "Requirement already satisfied: psutil in /opt/conda/lib/python3.10/site-packages (from ipykernel>=4.5.1->ipywidgets>=8.0.0->nwbwidgets==0.11.3) (5.9.4)\n",
      "Requirement already satisfied: pexpect>4.3 in /opt/conda/lib/python3.10/site-packages (from ipython>=6.1.0->ipywidgets>=8.0.0->nwbwidgets==0.11.3) (4.8.0)\n",
      "Requirement already satisfied: pickleshare in /opt/conda/lib/python3.10/site-packages (from ipython>=6.1.0->ipywidgets>=8.0.0->nwbwidgets==0.11.3) (0.7.5)\n",
      "Requirement already satisfied: stack-data in /opt/conda/lib/python3.10/site-packages (from ipython>=6.1.0->ipywidgets>=8.0.0->nwbwidgets==0.11.3) (0.6.2)\n",
      "Requirement already satisfied: jedi>=0.16 in /opt/conda/lib/python3.10/site-packages (from ipython>=6.1.0->ipywidgets>=8.0.0->nwbwidgets==0.11.3) (0.18.2)\n",
      "Requirement already satisfied: pygments>=2.4.0 in /opt/conda/lib/python3.10/site-packages (from ipython>=6.1.0->ipywidgets>=8.0.0->nwbwidgets==0.11.3) (2.14.0)\n",
      "Requirement already satisfied: backcall in /opt/conda/lib/python3.10/site-packages (from ipython>=6.1.0->ipywidgets>=8.0.0->nwbwidgets==0.11.3) (0.2.0)\n",
      "Requirement already satisfied: decorator in /opt/conda/lib/python3.10/site-packages (from ipython>=6.1.0->ipywidgets>=8.0.0->nwbwidgets==0.11.3) (5.1.1)\n",
      "Requirement already satisfied: prompt-toolkit!=3.0.37,<3.1.0,>=3.0.30 in /opt/conda/lib/python3.10/site-packages (from ipython>=6.1.0->ipywidgets>=8.0.0->nwbwidgets==0.11.3) (3.0.38)\n",
      "Requirement already satisfied: SecretStorage>=3.2 in /opt/conda/lib/python3.10/site-packages (from keyring!=23.9.0->dandi>=0.55.0->nwbwidgets==0.11.3) (3.3.3)\n",
      "Requirement already satisfied: jaraco.classes in /opt/conda/lib/python3.10/site-packages (from keyring!=23.9.0->dandi>=0.55.0->nwbwidgets==0.11.3) (3.2.3)\n",
      "Requirement already satisfied: jeepney>=0.4.2 in /opt/conda/lib/python3.10/site-packages (from keyring!=23.9.0->dandi>=0.55.0->nwbwidgets==0.11.3) (0.8.0)\n",
      "Requirement already satisfied: entrypoints in /opt/conda/lib/python3.10/site-packages (from numcodecs>=0.10.0->zarr->nwbwidgets==0.11.3) (0.4)\n",
      "Requirement already satisfied: natsort in /opt/conda/lib/python3.10/site-packages (from nwbinspector>=0.4.28->dandi>=0.55.0->nwbwidgets==0.11.3) (8.3.1)\n",
      "Requirement already satisfied: s3fs in /opt/conda/lib/python3.10/site-packages (from nwbinspector>=0.4.28->dandi>=0.55.0->nwbwidgets==0.11.3) (2023.3.0)\n",
      "Requirement already satisfied: isodate in /opt/conda/lib/python3.10/site-packages (from nwbinspector>=0.4.28->dandi>=0.55.0->nwbwidgets==0.11.3) (0.6.1)\n",
      "Requirement already satisfied: pytz>=2020.1 in /opt/conda/lib/python3.10/site-packages (from pandas<2,>=1.1.5->pynwb->nwbwidgets==0.11.3) (2022.7.1)\n",
      "Requirement already satisfied: gast<0.5,>=0.4.0 in /opt/conda/lib/python3.10/site-packages (from py2vega>=0.5.0->ipydatagrid->nwbwidgets==0.11.3) (0.4.0)\n",
      "Requirement already satisfied: typing-extensions>=4.2.0 in /opt/conda/lib/python3.10/site-packages (from pydantic>=1.9.0->dandi>=0.55.0->nwbwidgets==0.11.3) (4.5.0)\n",
      "Requirement already satisfied: blessings in /opt/conda/lib/python3.10/site-packages (from pyout!=0.6.0,>=0.5->dandi>=0.55.0->nwbwidgets==0.11.3) (1.7)\n",
      "Requirement already satisfied: six>=1.5 in /opt/conda/lib/python3.10/site-packages (from python-dateutil->dandi>=0.55.0->nwbwidgets==0.11.3) (1.16.0)\n",
      "Requirement already satisfied: ruamel.yaml.clib>=0.2.6 in /opt/conda/lib/python3.10/site-packages (from ruamel.yaml<1,>=0.15->dandi>=0.55.0->nwbwidgets==0.11.3) (0.2.7)\n",
      "Requirement already satisfied: boto3<1.25,>=1.24 in /opt/conda/lib/python3.10/site-packages (from zarr-checksum->dandi>=0.55.0->nwbwidgets==0.11.3) (1.24.59)\n",
      "Requirement already satisfied: botocore<1.28.0,>=1.27.59 in /opt/conda/lib/python3.10/site-packages (from boto3<1.25,>=1.24->zarr-checksum->dandi>=0.55.0->nwbwidgets==0.11.3) (1.27.59)\n",
      "Requirement already satisfied: jmespath<2.0.0,>=0.7.1 in /opt/conda/lib/python3.10/site-packages (from boto3<1.25,>=1.24->zarr-checksum->dandi>=0.55.0->nwbwidgets==0.11.3) (1.0.1)\n",
      "Requirement already satisfied: s3transfer<0.7.0,>=0.6.0 in /opt/conda/lib/python3.10/site-packages (from boto3<1.25,>=1.24->zarr-checksum->dandi>=0.55.0->nwbwidgets==0.11.3) (0.6.0)\n",
      "Requirement already satisfied: parso<0.9.0,>=0.8.0 in /opt/conda/lib/python3.10/site-packages (from jedi>=0.16->ipython>=6.1.0->ipywidgets>=8.0.0->nwbwidgets==0.11.3) (0.8.3)\n",
      "Requirement already satisfied: pyrsistent!=0.17.0,!=0.17.1,!=0.17.2,>=0.14.0 in /opt/conda/lib/python3.10/site-packages (from jsonschema[format]->dandischema~=0.8.0->dandi>=0.55.0->nwbwidgets==0.11.3) (0.19.3)\n",
      "Requirement already satisfied: platformdirs>=2.5 in /opt/conda/lib/python3.10/site-packages (from jupyter-core!=5.0.*,>=4.12->ipykernel>=4.5.1->ipywidgets>=8.0.0->nwbwidgets==0.11.3) (3.1.1)\n",
      "Requirement already satisfied: ptyprocess>=0.5 in /opt/conda/lib/python3.10/site-packages (from pexpect>4.3->ipython>=6.1.0->ipywidgets>=8.0.0->nwbwidgets==0.11.3) (0.7.0)\n",
      "Requirement already satisfied: wcwidth in /opt/conda/lib/python3.10/site-packages (from prompt-toolkit!=3.0.37,<3.1.0,>=3.0.30->ipython>=6.1.0->ipywidgets>=8.0.0->nwbwidgets==0.11.3) (0.2.6)\n",
      "Requirement already satisfied: email-validator>=1.0.3 in /opt/conda/lib/python3.10/site-packages (from pydantic>=1.9.0->dandi>=0.55.0->nwbwidgets==0.11.3) (1.3.1)\n",
      "Requirement already satisfied: cryptography>=2.0 in /opt/conda/lib/python3.10/site-packages (from SecretStorage>=3.2->keyring!=23.9.0->dandi>=0.55.0->nwbwidgets==0.11.3) (39.0.2)\n",
      "Requirement already satisfied: more-itertools in /opt/conda/lib/python3.10/site-packages (from jaraco.classes->keyring!=23.9.0->dandi>=0.55.0->nwbwidgets==0.11.3) (9.1.0)\n",
      "Requirement already satisfied: jsonpointer>1.13 in /opt/conda/lib/python3.10/site-packages (from jsonschema[format]->dandischema~=0.8.0->dandi>=0.55.0->nwbwidgets==0.11.3) (2.3)\n",
      "Requirement already satisfied: webcolors>=1.11 in /opt/conda/lib/python3.10/site-packages (from jsonschema[format]->dandischema~=0.8.0->dandi>=0.55.0->nwbwidgets==0.11.3) (1.12)\n",
      "Requirement already satisfied: uri-template in /opt/conda/lib/python3.10/site-packages (from jsonschema[format]->dandischema~=0.8.0->dandi>=0.55.0->nwbwidgets==0.11.3) (1.2.0)\n",
      "Requirement already satisfied: rfc3339-validator in /opt/conda/lib/python3.10/site-packages (from jsonschema[format]->dandischema~=0.8.0->dandi>=0.55.0->nwbwidgets==0.11.3) (0.1.4)\n",
      "Requirement already satisfied: isoduration in /opt/conda/lib/python3.10/site-packages (from jsonschema[format]->dandischema~=0.8.0->dandi>=0.55.0->nwbwidgets==0.11.3) (20.11.0)\n",
      "Requirement already satisfied: rfc3987 in /opt/conda/lib/python3.10/site-packages (from jsonschema[format]->dandischema~=0.8.0->dandi>=0.55.0->nwbwidgets==0.11.3) (1.3.8)\n",
      "Requirement already satisfied: fqdn in /opt/conda/lib/python3.10/site-packages (from jsonschema[format]->dandischema~=0.8.0->dandi>=0.55.0->nwbwidgets==0.11.3) (1.5.1)\n",
      "Requirement already satisfied: aiobotocore~=2.4.2 in /opt/conda/lib/python3.10/site-packages (from s3fs->nwbinspector>=0.4.28->dandi>=0.55.0->nwbwidgets==0.11.3) (2.4.2)\n",
      "Requirement already satisfied: pure-eval in /opt/conda/lib/python3.10/site-packages (from stack-data->ipython>=6.1.0->ipywidgets>=8.0.0->nwbwidgets==0.11.3) (0.2.2)\n",
      "Requirement already satisfied: asttokens>=2.1.0 in /opt/conda/lib/python3.10/site-packages (from stack-data->ipython>=6.1.0->ipywidgets>=8.0.0->nwbwidgets==0.11.3) (2.2.1)\n",
      "Requirement already satisfied: executing>=1.2.0 in /opt/conda/lib/python3.10/site-packages (from stack-data->ipython>=6.1.0->ipywidgets>=8.0.0->nwbwidgets==0.11.3) (1.2.0)\n",
      "Requirement already satisfied: aioitertools>=0.5.1 in /opt/conda/lib/python3.10/site-packages (from aiobotocore~=2.4.2->s3fs->nwbinspector>=0.4.28->dandi>=0.55.0->nwbwidgets==0.11.3) (0.11.0)\n",
      "Requirement already satisfied: wrapt>=1.10.10 in /opt/conda/lib/python3.10/site-packages (from aiobotocore~=2.4.2->s3fs->nwbinspector>=0.4.28->dandi>=0.55.0->nwbwidgets==0.11.3) (1.15.0)\n",
      "Requirement already satisfied: cffi>=1.12 in /opt/conda/lib/python3.10/site-packages (from cryptography>=2.0->SecretStorage>=3.2->keyring!=23.9.0->dandi>=0.55.0->nwbwidgets==0.11.3) (1.15.1)\n",
      "Requirement already satisfied: dnspython>=1.15.0 in /opt/conda/lib/python3.10/site-packages (from email-validator>=1.0.3->pydantic>=1.9.0->dandi>=0.55.0->nwbwidgets==0.11.3) (2.3.0)\n",
      "Requirement already satisfied: arrow>=0.15.0 in /opt/conda/lib/python3.10/site-packages (from isoduration->jsonschema[format]->dandischema~=0.8.0->dandi>=0.55.0->nwbwidgets==0.11.3) (1.2.3)\n",
      "Requirement already satisfied: pycparser in /opt/conda/lib/python3.10/site-packages (from cffi>=1.12->cryptography>=2.0->SecretStorage>=3.2->keyring!=23.9.0->dandi>=0.55.0->nwbwidgets==0.11.3) (2.21)\n",
      "Building wheels for collected packages: nwbwidgets\n",
      "  Building editable for nwbwidgets (pyproject.toml) ... \u001b[?25ldone\n",
      "\u001b[?25h  Created wheel for nwbwidgets: filename=nwbwidgets-0.11.3-0.editable-py3-none-any.whl size=6511 sha256=7640a256868d935a7fe7ddbf6df585ccfe4e13f249832f47a4344aa6173d4045\n",
      "  Stored in directory: /tmp/pip-ephem-wheel-cache-9jgcu65f/wheels/9f/62/c2/acd6bfec4729dcadd4ce8331355f5069c71944a4f95890e289\n",
      "Successfully built nwbwidgets\n",
      "Installing collected packages: ipyfilechooser, nwbwidgets\n",
      "  Attempting uninstall: nwbwidgets\n",
      "    Found existing installation: nwbwidgets 0.10.2\n",
      "    Uninstalling nwbwidgets-0.10.2:\n",
      "      Successfully uninstalled nwbwidgets-0.10.2\n",
      "Successfully installed ipyfilechooser-0.6.0 nwbwidgets-0.11.3\n"
     ]
    }
   ],
   "source": [
    "import sys\n",
    "import os\n",
    "os.chdir('/home/jovyan/packages/nwbwidgets')\n",
    "!$sys.executable -m pip install -e ."
   ]
  },
  {
   "cell_type": "code",
   "execution_count": 2,
   "id": "81709fb5-55aa-4ff9-9b96-cc927bc65b25",
   "metadata": {
    "tags": []
   },
   "outputs": [
    {
     "name": "stdout",
     "output_type": "stream",
     "text": [
      "Collecting ndx-events\n",
      "  Using cached ndx_events-0.2.0-py2.py3-none-any.whl (13 kB)\n",
      "Requirement already satisfied: pynwb>=1.1.2 in /opt/conda/lib/python3.10/site-packages (from ndx-events) (2.3.1)\n",
      "Requirement already satisfied: python-dateutil<3,>=2.7.3 in /opt/conda/lib/python3.10/site-packages (from pynwb>=1.1.2->ndx-events) (2.8.2)\n",
      "Requirement already satisfied: setuptools in /opt/conda/lib/python3.10/site-packages (from pynwb>=1.1.2->ndx-events) (67.6.0)\n",
      "Requirement already satisfied: pandas<2,>=1.1.5 in /opt/conda/lib/python3.10/site-packages (from pynwb>=1.1.2->ndx-events) (1.5.3)\n",
      "Requirement already satisfied: numpy<1.24,>=1.16 in /opt/conda/lib/python3.10/site-packages (from pynwb>=1.1.2->ndx-events) (1.23.5)\n",
      "Requirement already satisfied: h5py<4,>=2.10 in /opt/conda/lib/python3.10/site-packages (from pynwb>=1.1.2->ndx-events) (3.8.0)\n",
      "Requirement already satisfied: hdmf<4,>=3.5.1 in /opt/conda/lib/python3.10/site-packages (from pynwb>=1.1.2->ndx-events) (3.5.2)\n",
      "Requirement already satisfied: mpi4py>=3.0.2 in /opt/conda/lib/python3.10/site-packages (from h5py<4,>=2.10->pynwb>=1.1.2->ndx-events) (3.1.4)\n",
      "Requirement already satisfied: jsonschema<5,>=2.6.0 in /opt/conda/lib/python3.10/site-packages (from hdmf<4,>=3.5.1->pynwb>=1.1.2->ndx-events) (4.17.3)\n",
      "Requirement already satisfied: scipy<2,>=1.1 in /opt/conda/lib/python3.10/site-packages (from hdmf<4,>=3.5.1->pynwb>=1.1.2->ndx-events) (1.10.1)\n",
      "Requirement already satisfied: ruamel.yaml<1,>=0.16 in /opt/conda/lib/python3.10/site-packages (from hdmf<4,>=3.5.1->pynwb>=1.1.2->ndx-events) (0.17.21)\n",
      "Requirement already satisfied: pytz>=2020.1 in /opt/conda/lib/python3.10/site-packages (from pandas<2,>=1.1.5->pynwb>=1.1.2->ndx-events) (2022.7.1)\n",
      "Requirement already satisfied: six>=1.5 in /opt/conda/lib/python3.10/site-packages (from python-dateutil<3,>=2.7.3->pynwb>=1.1.2->ndx-events) (1.16.0)\n",
      "Requirement already satisfied: attrs>=17.4.0 in /opt/conda/lib/python3.10/site-packages (from jsonschema<5,>=2.6.0->hdmf<4,>=3.5.1->pynwb>=1.1.2->ndx-events) (22.2.0)\n",
      "Requirement already satisfied: pyrsistent!=0.17.0,!=0.17.1,!=0.17.2,>=0.14.0 in /opt/conda/lib/python3.10/site-packages (from jsonschema<5,>=2.6.0->hdmf<4,>=3.5.1->pynwb>=1.1.2->ndx-events) (0.19.3)\n",
      "Requirement already satisfied: ruamel.yaml.clib>=0.2.6 in /opt/conda/lib/python3.10/site-packages (from ruamel.yaml<1,>=0.16->hdmf<4,>=3.5.1->pynwb>=1.1.2->ndx-events) (0.2.7)\n",
      "Installing collected packages: ndx-events\n",
      "Successfully installed ndx-events-0.2.0\n",
      "Collecting ndx-sound\n",
      "  Using cached ndx_sound-0.2.0-py2.py3-none-any.whl (6.7 kB)\n",
      "Requirement already satisfied: hdmf<4,>=2.5.6 in /opt/conda/lib/python3.10/site-packages (from ndx-sound) (3.5.2)\n",
      "Requirement already satisfied: pynwb<3,>=1.5.0 in /opt/conda/lib/python3.10/site-packages (from ndx-sound) (2.3.1)\n",
      "Requirement already satisfied: setuptools in /opt/conda/lib/python3.10/site-packages (from hdmf<4,>=2.5.6->ndx-sound) (67.6.0)\n",
      "Requirement already satisfied: scipy<2,>=1.1 in /opt/conda/lib/python3.10/site-packages (from hdmf<4,>=2.5.6->ndx-sound) (1.10.1)\n",
      "Requirement already satisfied: jsonschema<5,>=2.6.0 in /opt/conda/lib/python3.10/site-packages (from hdmf<4,>=2.5.6->ndx-sound) (4.17.3)\n",
      "Requirement already satisfied: h5py<4,>=2.10 in /opt/conda/lib/python3.10/site-packages (from hdmf<4,>=2.5.6->ndx-sound) (3.8.0)\n",
      "Requirement already satisfied: ruamel.yaml<1,>=0.16 in /opt/conda/lib/python3.10/site-packages (from hdmf<4,>=2.5.6->ndx-sound) (0.17.21)\n",
      "Requirement already satisfied: numpy<1.24,>=1.16 in /opt/conda/lib/python3.10/site-packages (from hdmf<4,>=2.5.6->ndx-sound) (1.23.5)\n",
      "Requirement already satisfied: pandas<2,>=1.0.5 in /opt/conda/lib/python3.10/site-packages (from hdmf<4,>=2.5.6->ndx-sound) (1.5.3)\n",
      "Requirement already satisfied: python-dateutil<3,>=2.7.3 in /opt/conda/lib/python3.10/site-packages (from pynwb<3,>=1.5.0->ndx-sound) (2.8.2)\n",
      "Requirement already satisfied: mpi4py>=3.0.2 in /opt/conda/lib/python3.10/site-packages (from h5py<4,>=2.10->hdmf<4,>=2.5.6->ndx-sound) (3.1.4)\n",
      "Requirement already satisfied: pyrsistent!=0.17.0,!=0.17.1,!=0.17.2,>=0.14.0 in /opt/conda/lib/python3.10/site-packages (from jsonschema<5,>=2.6.0->hdmf<4,>=2.5.6->ndx-sound) (0.19.3)\n",
      "Requirement already satisfied: attrs>=17.4.0 in /opt/conda/lib/python3.10/site-packages (from jsonschema<5,>=2.6.0->hdmf<4,>=2.5.6->ndx-sound) (22.2.0)\n",
      "Requirement already satisfied: pytz>=2020.1 in /opt/conda/lib/python3.10/site-packages (from pandas<2,>=1.0.5->hdmf<4,>=2.5.6->ndx-sound) (2022.7.1)\n",
      "Requirement already satisfied: six>=1.5 in /opt/conda/lib/python3.10/site-packages (from python-dateutil<3,>=2.7.3->pynwb<3,>=1.5.0->ndx-sound) (1.16.0)\n",
      "Requirement already satisfied: ruamel.yaml.clib>=0.2.6 in /opt/conda/lib/python3.10/site-packages (from ruamel.yaml<1,>=0.16->hdmf<4,>=2.5.6->ndx-sound) (0.2.7)\n",
      "Installing collected packages: ndx-sound\n",
      "Successfully installed ndx-sound-0.2.0\n",
      "Collecting g2p_en\n",
      "  Using cached g2p_en-2.1.0-py3-none-any.whl (3.1 MB)\n",
      "Collecting inflect>=0.3.1\n",
      "  Using cached inflect-7.0.0-py3-none-any.whl (34 kB)\n",
      "Requirement already satisfied: numpy>=1.13.1 in /opt/conda/lib/python3.10/site-packages (from g2p_en) (1.23.5)\n",
      "Collecting nltk>=3.2.4\n",
      "  Using cached nltk-3.8.1-py3-none-any.whl (1.5 MB)\n",
      "Collecting distance>=0.1.3\n",
      "  Using cached Distance-0.1.3-py3-none-any.whl\n",
      "Requirement already satisfied: pydantic>=1.9.1 in /opt/conda/lib/python3.10/site-packages (from inflect>=0.3.1->g2p_en) (1.10.6)\n",
      "Requirement already satisfied: typing-extensions in /opt/conda/lib/python3.10/site-packages (from inflect>=0.3.1->g2p_en) (4.5.0)\n",
      "Requirement already satisfied: click in /opt/conda/lib/python3.10/site-packages (from nltk>=3.2.4->g2p_en) (8.1.3)\n",
      "Requirement already satisfied: tqdm in /opt/conda/lib/python3.10/site-packages (from nltk>=3.2.4->g2p_en) (4.65.0)\n",
      "Requirement already satisfied: joblib in /opt/conda/lib/python3.10/site-packages (from nltk>=3.2.4->g2p_en) (1.2.0)\n",
      "Collecting regex>=2021.8.3\n",
      "  Using cached regex-2023.10.3-cp310-cp310-manylinux_2_17_x86_64.manylinux2014_x86_64.whl (773 kB)\n",
      "Installing collected packages: distance, regex, nltk, inflect, g2p_en\n",
      "Successfully installed distance-0.1.3 g2p_en-2.1.0 inflect-7.0.0 nltk-3.8.1 regex-2023.10.3\n"
     ]
    }
   ],
   "source": [
    "!$sys.executable -m pip install ndx-events\n",
    "!$sys.executable -m pip install ndx-sound\n",
    "!$sys.executable -m pip install g2p_en"
   ]
  },
  {
   "cell_type": "code",
   "execution_count": 1,
   "id": "4223a7a5-8db0-488c-a896-202f5814b98a",
   "metadata": {},
   "outputs": [],
   "source": [
    "from pynwb import NWBHDF5IO\n",
    "from nwbwidgets import nwb2widget"
   ]
  },
  {
   "cell_type": "code",
   "execution_count": 2,
   "id": "2c0dc5ee-2ea0-437e-88bc-c794d59c014f",
   "metadata": {
    "tags": []
   },
   "outputs": [],
   "source": [
    "import os\n",
    "import pandas as pd\n",
    "import matplotlib.pyplot as plt\n",
    "import nwbwidgets.utils.timeseries as ts\n",
    "\n",
    "from ipywidgets import widgets, Output, FloatProgress, Layout\n",
    "from ipydatagrid import DataGrid\n",
    "from typing import Optional, Union\n",
    "from pynwb.base import DynamicTable, TimeSeries, ProcessingModule\n",
    "from pynwb.ecephys import ElectricalSeries\n",
    "from pynwb.epoch import TimeIntervals\n",
    "from nwbwidgets.utils.widgets import interactive_output, clean_axes\n",
    "from nwbwidgets.controllers import (\n",
    "    GroupAndSortController,\n",
    "    StartAndDurationController,\n",
    "    make_trial_event_controller,\n",
    ")"
   ]
  },
  {
   "cell_type": "code",
   "execution_count": 3,
   "id": "b0e0833b-b6b9-49b7-999c-5efc2b63d9f5",
   "metadata": {
    "tags": []
   },
   "outputs": [],
   "source": [
    "os.chdir('/home/jovyan/stavisky-lab-to-nwb/src/')\n",
    "from stavisky_lab_to_nwb.widgets.widgets import (\n",
    "    DecodingErrorWidget,\n",
    "    AlignedAveragedTimeSeriesWidget,\n",
    "    DecodingOutputWidget,\n",
    ")"
   ]
  },
  {
   "cell_type": "code",
   "execution_count": 4,
   "id": "28e19be5-db8e-4127-9e25-f8735193b0a5",
   "metadata": {
    "tags": []
   },
   "outputs": [
    {
     "name": "stderr",
     "output_type": "stream",
     "text": [
      "/opt/conda/lib/python3.10/site-packages/hdmf/spec/namespace.py:531: UserWarning: Ignoring cached namespace 'hdmf-common' version 1.8.0 because version 1.5.1 is already loaded.\n",
      "  warn(\"Ignoring cached namespace '%s' version %s because version %s is already loaded.\"\n",
      "/opt/conda/lib/python3.10/site-packages/hdmf/spec/namespace.py:531: UserWarning: Ignoring cached namespace 'hdmf-experimental' version 0.5.0 because version 0.2.0 is already loaded.\n",
      "  warn(\"Ignoring cached namespace '%s' version %s because version %s is already loaded.\"\n"
     ]
    }
   ],
   "source": [
    "io = NWBHDF5IO('/home/jovyan/conversion_nwb/stavisky-lab-to-nwb/braintotext/t15_sim.2023.09.04.nwb', 'r', load_namespaces=True)\n",
    "nwbfile = io.read()"
   ]
  },
  {
   "cell_type": "code",
   "execution_count": 5,
   "id": "df6782e7-3504-41a9-a04f-829c4b5d127d",
   "metadata": {
    "tags": []
   },
   "outputs": [
    {
     "data": {
      "application/vnd.jupyter.widget-view+json": {
       "model_id": "c3b90eb3d5e04bc5b410651a7c32b572",
       "version_major": 2,
       "version_minor": 0
      },
      "text/plain": [
       "DecodingErrorWidget(children=(Output(), MultiTableWidget(children=(DataGrid(auto_fit_params={'area': 'all', 'p…"
      ]
     },
     "execution_count": 5,
     "metadata": {},
     "output_type": "execute_result"
    }
   ],
   "source": [
    "DecodingErrorWidget([nwbfile.trials])"
   ]
  },
  {
   "cell_type": "code",
   "execution_count": 6,
   "id": "dd538053-4206-4437-be53-559fba6be7b8",
   "metadata": {
    "tags": []
   },
   "outputs": [
    {
     "data": {
      "application/vnd.jupyter.widget-view+json": {
       "model_id": "bdc447b6e60c44d1a40cf36bdcaf22af",
       "version_major": 2,
       "version_minor": 0
      },
      "text/plain": [
       "AlignedAveragedTimeSeriesWidget(children=(HBox(children=(VBox(children=(GroupAndSortController(value={'order':…"
      ]
     },
     "execution_count": 6,
     "metadata": {},
     "output_type": "execute_result"
    }
   ],
   "source": [
    "AlignedAveragedTimeSeriesWidget(\n",
    "    time_series=nwbfile.processing['ecephys'].data_interfaces['smoothed_sbp_10ms_nsp'],\n",
    "    trials=nwbfile.trials,\n",
    "    processing_module=nwbfile.processing['ecephys']\n",
    ")"
   ]
  },
  {
   "cell_type": "code",
   "execution_count": 5,
   "id": "a9c7da0e-70a0-4696-9928-23eae554a87d",
   "metadata": {
    "tags": []
   },
   "outputs": [
    {
     "data": {
      "application/vnd.jupyter.widget-view+json": {
       "model_id": "5f0c1e23804e48ff85531a3d62cfafe6",
       "version_major": 2,
       "version_minor": 0
      },
      "text/plain": [
       "DecodingOutputWidget(children=(VBox(children=(HBox(children=(Checkbox(value=False, description='Rotate text', …"
      ]
     },
     "execution_count": 5,
     "metadata": {},
     "output_type": "execute_result"
    }
   ],
   "source": [
    "DecodingOutputWidget(\n",
    "    time_series=nwbfile.processing['behavior'].data_interfaces['phoneme_logits'],\n",
    "    events=nwbfile.processing['behavior'].data_interfaces['decoded_text'],\n",
    ")"
   ]
  },
  {
   "cell_type": "code",
   "execution_count": 1,
   "id": "a75c5f07-fbb2-42c4-a3ad-0f9eec088cf4",
   "metadata": {
    "tags": []
   },
   "outputs": [
    {
     "ename": "NameError",
     "evalue": "name 'io' is not defined",
     "output_type": "error",
     "traceback": [
      "\u001b[0;31m---------------------------------------------------------------------------\u001b[0m",
      "\u001b[0;31mNameError\u001b[0m                                 Traceback (most recent call last)",
      "Cell \u001b[0;32mIn[1], line 1\u001b[0m\n\u001b[0;32m----> 1\u001b[0m \u001b[43mio\u001b[49m\u001b[38;5;241m.\u001b[39mclose()\n",
      "\u001b[0;31mNameError\u001b[0m: name 'io' is not defined"
     ]
    }
   ],
   "source": [
    "io.close()"
   ]
  },
  {
   "cell_type": "code",
   "execution_count": null,
   "id": "1553332c-da86-46f4-93d2-5f2d13623e36",
   "metadata": {},
   "outputs": [],
   "source": []
  }
 ],
 "metadata": {
  "kernelspec": {
   "display_name": "Python 3 (ipykernel)",
   "language": "python",
   "name": "python3"
  },
  "language_info": {
   "codemirror_mode": {
    "name": "ipython",
    "version": 3
   },
   "file_extension": ".py",
   "mimetype": "text/x-python",
   "name": "python",
   "nbconvert_exporter": "python",
   "pygments_lexer": "ipython3",
   "version": "3.10.9"
  }
 },
 "nbformat": 4,
 "nbformat_minor": 5
}
